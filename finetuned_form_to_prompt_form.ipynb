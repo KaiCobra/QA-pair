{
 "cells": [
  {
   "cell_type": "code",
   "execution_count": 1,
   "metadata": {},
   "outputs": [],
   "source": [
    "chat_history_filepath = r\"..\\web_selenium\\CHAT_HISTORY_3\""
   ]
  },
  {
   "cell_type": "code",
   "execution_count": 2,
   "metadata": {},
   "outputs": [],
   "source": [
    "import os\n",
    "import json\n",
    "\n",
    "def read_json_file(filepath):\n",
    "    \"\"\"Read a JSON file with indentations and return its content.\"\"\"\n",
    "    with open(filepath, 'r', encoding='utf-8') as file:\n",
    "        #print(filepath)\n",
    "        di = json.load(file)\n",
    "        #print(di)\n",
    "        return di\n",
    "    \n",
    "\n",
    "def write_list_to_jsonl(filepath, data):\n",
    "    \"\"\"Write a list of JSON objects to a JSONL file.\"\"\"\n",
    "    with open(filepath, 'w', encoding='utf-8') as file:\n",
    "        for item in data:\n",
    "            file.write(json.dumps(item, ensure_ascii=False) + '\\n')\n",
    "\n",
    "def merge_jsonl_files(chat_history_filepath):\n",
    "    \"\"\"Read all jsonl files in the folder, merge them, and write to an output file.\"\"\"\n",
    "    merged_data = []\n",
    "    for filename in os.listdir(chat_history_filepath):\n",
    "        if filename.endswith('.jsonl'):\n",
    "            file_path = os.path.join(chat_history_filepath, filename)\n",
    "            ###merged_data.append(read_json_file(file_path))\n",
    "            #print([read_json_file(file_path)['messages']['content'] if read_json_file(file_path)['messages']['role'] == 'user'])\n",
    "            aahahahhah = [mess['content'] for mess in read_json_file(file_path)['messages'] if mess['role'] == 'user' or mess['role'] == 'assistant' ]\n",
    "            if(aahahahhah):\n",
    "                merged_data.append(aahahahhah)\n",
    "    return merged_data"
   ]
  },
  {
   "cell_type": "code",
   "execution_count": null,
   "metadata": {},
   "outputs": [],
   "source": []
  },
  {
   "cell_type": "code",
   "execution_count": 3,
   "metadata": {},
   "outputs": [
    {
     "name": "stdout",
     "output_type": "stream",
     "text": [
      "所有的 .jsonl 檔案已經被合併並寫入到 all_merged_client_messages_with_assistant.jsonl\n"
     ]
    }
   ],
   "source": [
    "\n",
    "# 指定你的資料夾路徑和輸出檔案路徑\n",
    "folder_path = r'C:\\Users\\k2001\\Desktop\\chat bot\\line bot\\chatbot 開發\\web_selenium\\CHAT_HISTORY_3'  # 替換成你的資料夾路徑\n",
    "output_filepath = 'all_merged_client_messages_with_assistant.jsonl'  # 替換成你想要的輸出檔案名稱\n",
    "\n",
    "# 合併jsonl檔案\n",
    "merged_data = merge_jsonl_files(chat_history_filepath)\n",
    "\n",
    "write_list_to_jsonl(output_filepath, merged_data)\n",
    "\n",
    "print(f\"所有的 .jsonl 檔案已經被合併並寫入到 {output_filepath}\")"
   ]
  },
  {
   "cell_type": "code",
   "execution_count": null,
   "metadata": {},
   "outputs": [],
   "source": []
  }
 ],
 "metadata": {
  "kernelspec": {
   "display_name": "Python 3",
   "language": "python",
   "name": "python3"
  },
  "language_info": {
   "codemirror_mode": {
    "name": "ipython",
    "version": 3
   },
   "file_extension": ".py",
   "mimetype": "text/x-python",
   "name": "python",
   "nbconvert_exporter": "python",
   "pygments_lexer": "ipython3",
   "version": "3.12.3"
  }
 },
 "nbformat": 4,
 "nbformat_minor": 2
}
