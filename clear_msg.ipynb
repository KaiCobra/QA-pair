{
 "cells": [
  {
   "cell_type": "code",
   "execution_count": 2,
   "metadata": {},
   "outputs": [
    {
     "name": "stdout",
     "output_type": "stream",
     "text": [
      "['離線自動回覆', '歡迎自動回覆', '自動回復', '這是自動回覆', '此則自動回覆', '為自動回覆', '訊息自動回覆', '本通知是自動回覆', '此為系統自動回覆', '您好👋🏻', '嗨嗨你好啊！', '親愛的買家', '匾額訂購方式：']\n"
     ]
    }
   ],
   "source": [
    "\n",
    "import numpy as np\n",
    "import json\n",
    "\n",
    "\n",
    "note_to_del = []\n",
    "with open('notes.md', 'r', encoding = 'utf-8') as notes:\n",
    "    note_to_del = notes.readlines()\n",
    "    note_to_del = [note.strip() for note in note_to_del]\n",
    "    print(note_to_del)\n",
    "\n",
    "\n",
    "def del_auto_messages(client):\n",
    "    messages = []\n",
    "    for msg in client:\n",
    "        for del_note in note_to_del:\n",
    "            count = 0\n",
    "            if del_note in msg:\n",
    "                count += 1\n",
    "                break\n",
    "            else: continue\n",
    "        if count == 0:\n",
    "            messages.append(msg)\n",
    "        else: count = 0; continue\n",
    "    return messages\n",
    "\n",
    "\n",
    "\n"
   ]
  },
  {
   "cell_type": "code",
   "execution_count": 3,
   "metadata": {},
   "outputs": [
    {
     "data": {
      "text/plain": [
       "7167"
      ]
     },
     "execution_count": 3,
     "metadata": {},
     "output_type": "execute_result"
    }
   ],
   "source": [
    "\n",
    "clients_messages_list = []\n",
    "filename = 'all_merged_client_messages_with_assistant.jsonl'\n",
    "with open(filename, 'r',encoding = 'utf-8')as file:\n",
    "    clients = file.readlines()\n",
    "    for json_str in clients:\n",
    "        messages = json.loads(json_str)\n",
    "        messages = del_auto_messages(messages)\n",
    "        \n",
    "        clients_messages_list.append(messages)\n",
    "\n",
    "len(clients_messages_list)\n"
   ]
  },
  {
   "cell_type": "code",
   "execution_count": 4,
   "metadata": {},
   "outputs": [
    {
     "data": {
      "text/plain": [
       "'要加快捷趕工才來的及了\\n22:55'"
      ]
     },
     "execution_count": 4,
     "metadata": {},
     "output_type": "execute_result"
    }
   ],
   "source": [
    "clients_messages_list[0][0]"
   ]
  },
  {
   "cell_type": "code",
   "execution_count": 5,
   "metadata": {},
   "outputs": [],
   "source": [
    "import json\n",
    "import re\n",
    "\n",
    "all_chat = [[] for _ in clients_messages_list]\n",
    "\n",
    "time_pattern = re.compile(r'\\b\\d{2}:\\d{2}\\b')\n",
    "clear_msg = []\n",
    "# Read each JSON file\n",
    "for client in clients_messages_list:\n",
    "        clean_message = []\n",
    "        for msg in client:\n",
    "            clean_mess = re.sub(time_pattern, '', msg)\n",
    "            clean_mess = clean_mess.strip()\n",
    "            clean_message.append(clean_mess)\n",
    "        \n",
    "        clear_msg.append(clean_message)"
   ]
  },
  {
   "cell_type": "code",
   "execution_count": 6,
   "metadata": {},
   "outputs": [
    {
     "name": "stdout",
     "output_type": "stream",
     "text": [
      "[\n",
      "\"可以\",\n",
      "\"內容都可以更改\",\n",
      "\"打字給我的參考格式：\\n---------------------------------\\n恭賀 王阿三\\n三十而立 生辰之喜\\n\\n財富自由\\n生日快樂（大字）\\n萬事順遂\\n\\n台東最美麗 林筱妹 敬贈\\n民國一一二年二月十七日（當年生日日期）\\n---------------------------------\",\n",
      "\"打字給我的參考格式：\\n---------------------------------\\n恭賀 陳榆霓\\n17歲 生日快樂\\n\\n做兄弟在心中\\n辣妹鮑魚（大字）\\n電話永遠打不通\\n\\n辣妹鮑魚 吳立盛 吳子葶 蔡孟璇 吳奕靓 敬贈\\n民國一一二年七月十一日\\n---------------------------------\",\n",
      "\"這樣可以嗎\",\n",
      "\"內容可以 記得先下單付款\",\n",
      "\"付款完成後通知我排稿\",\n",
      "\"匯款嗎 不能貨到付款嗎\",\n",
      "\"可以\",\n",
      "\"您要什麼尺寸的呢?\",\n",
      "\"是不是只有1.3才能貨到付款\",\n",
      "\"[*/傳送連結*/]【凱馨雷射】 貨到付款 奇木匾 客製化匾額 牌匾 宮廟匾額 生日禮物 宅配時間7-10天\",\n",
      "\"回覆 \\\"assistant:[商品] 【凱馨雷射】 貨到付款 奇木匾 客製化匾額 牌匾 宮廟匾額  生日禮物 宅配時間7-10天\\\"這個可以\",\n",
      "\"但不能超商取貨對吧\",\n",
      "\"對喔 要超商的話只能1.3尺\",\n",
      "\"✅特別注意事項：\\n\\n🌟出貨時系統會顯示，不再各別通知出貨，\\n請自行留意包裏到貨(郵差/宅配到貨時段)，若不在家請代收人或大樓管理員留意，\\n無故不取件包裏將會退件，另外寄出運費由買家自行負擔。\\n🌟木匾背面如有:裂紋/大小洞/木紋/色澤不規則/表面不平整/靠近樹皮的紋路等等，不影響正面美觀都屬正常現象，木材都是隨機刻製，無法依個人喜好而做挑選。\\n🌟買家若以個人喜好觀點看商品不滿意,此為［客製化商品］無七天無因退貨適用，不得異議，請同意上述各項再行購買，感謝。\",\n",
      "\"請問是宅配無人收貨嗎？若是，可指定附近郵局，你再去領貨即可\",\n",
      "\"好的我先問問看 ！\",\n",
      "\"[*/貼圖*/]\"\n",
      "]\n"
     ]
    }
   ],
   "source": [
    "print((json.dumps(clear_msg[11],indent = 0, ensure_ascii=False)))"
   ]
  },
  {
   "cell_type": "code",
   "execution_count": null,
   "metadata": {},
   "outputs": [],
   "source": []
  },
  {
   "cell_type": "code",
   "execution_count": null,
   "metadata": {},
   "outputs": [],
   "source": []
  }
 ],
 "metadata": {
  "kernelspec": {
   "display_name": "Python 3",
   "language": "python",
   "name": "python3"
  },
  "language_info": {
   "codemirror_mode": {
    "name": "ipython",
    "version": 3
   },
   "file_extension": ".py",
   "mimetype": "text/x-python",
   "name": "python",
   "nbconvert_exporter": "python",
   "pygments_lexer": "ipython3",
   "version": "3.12.3"
  }
 },
 "nbformat": 4,
 "nbformat_minor": 2
}
